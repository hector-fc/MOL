{
 "cells": [
  {
   "cell_type": "markdown",
   "metadata": {},
   "source": [
    "$$\n",
    "\\begin{array}{rrl}\n",
    "\\min  &  - x_{1} -x_{2} &  \\\\\n",
    "\\text{s. a.} &  x_{1}+2x_{2}  &  \\leq 3\\\\\n",
    "             & 2 x_{1}+x_{2}  & \\leq 3\\\\\n",
    "             & x_{1},x_{2}  & \\geq 0\n",
    "\\end{array}\n",
    "$$\n",
    "\n",
    "\n"
   ]
  },
  {
   "cell_type": "code",
   "execution_count": 67,
   "metadata": {},
   "outputs": [
    {
     "data": {
      "text/latex": [
       "$\\displaystyle \\left(a + b + c + d\\right)^{2}$"
      ],
      "text/plain": [
       "(a + b + c + d)**2"
      ]
     },
     "metadata": {},
     "output_type": "display_data"
    },
    {
     "data": {
      "text/latex": [
       "$\\displaystyle a^{2} + 2 a b + 2 a c + 2 a d + b^{2} + 2 b c + 2 b d + c^{2} + 2 c d + d^{2}$"
      ],
      "text/plain": [
       "a**2 + 2*a*b + 2*a*c + 2*a*d + b**2 + 2*b*c + 2*b*d + c**2 + 2*c*d + d**2"
      ]
     },
     "metadata": {},
     "output_type": "display_data"
    }
   ],
   "source": [
    "import sympy as sym \n",
    "a,b,c,d = sym.symbols('a b c d')\n",
    "e = (a+b+c+d)**2\n",
    "display(e)\n",
    "display(sym.expand(e))\n",
    "\n"
   ]
  },
  {
   "cell_type": "code",
   "execution_count": 54,
   "metadata": {},
   "outputs": [],
   "source": [
    "from sympy.abc import alpha, beta, gamma\n"
   ]
  },
  {
   "cell_type": "code",
   "execution_count": 55,
   "metadata": {},
   "outputs": [
    {
     "data": {
      "text/latex": [
       "$\\displaystyle \\alpha$"
      ],
      "text/plain": [
       "alpha"
      ]
     },
     "metadata": {},
     "output_type": "display_data"
    },
    {
     "data": {
      "text/latex": [
       "$\\displaystyle \\beta$"
      ],
      "text/plain": [
       "beta"
      ]
     },
     "metadata": {},
     "output_type": "display_data"
    },
    {
     "data": {
      "text/latex": [
       "$\\displaystyle \\gamma$"
      ],
      "text/plain": [
       "gamma"
      ]
     },
     "metadata": {},
     "output_type": "display_data"
    }
   ],
   "source": [
    "display(alpha, beta, gamma ) "
   ]
  },
  {
   "cell_type": "code",
   "execution_count": 76,
   "metadata": {},
   "outputs": [
    {
     "data": {
      "text/latex": [
       "$\\displaystyle \\left(\\alpha + \\beta + \\gamma\\right)^{5}$"
      ],
      "text/plain": [
       "(alpha + beta + gamma)**5"
      ]
     },
     "metadata": {},
     "output_type": "display_data"
    },
    {
     "data": {
      "text/latex": [
       "$\\displaystyle \\alpha^{5} + 5 \\alpha^{4} \\beta + 5 \\alpha^{4} \\gamma + 10 \\alpha^{3} \\beta^{2} + 20 \\alpha^{3} \\beta \\gamma + 10 \\alpha^{3} \\gamma^{2} + 10 \\alpha^{2} \\beta^{3} + 30 \\alpha^{2} \\beta^{2} \\gamma + 30 \\alpha^{2} \\beta \\gamma^{2} + 10 \\alpha^{2} \\gamma^{3} + 5 \\alpha \\beta^{4} + 20 \\alpha \\beta^{3} \\gamma + 30 \\alpha \\beta^{2} \\gamma^{2} + 20 \\alpha \\beta \\gamma^{3} + 5 \\alpha \\gamma^{4} + \\beta^{5} + 5 \\beta^{4} \\gamma + 10 \\beta^{3} \\gamma^{2} + 10 \\beta^{2} \\gamma^{3} + 5 \\beta \\gamma^{4} + \\gamma^{5}$"
      ],
      "text/plain": [
       "alpha**5 + 5*alpha**4*beta + 5*alpha**4*gamma + 10*alpha**3*beta**2 + 20*alpha**3*beta*gamma + 10*alpha**3*gamma**2 + 10*alpha**2*beta**3 + 30*alpha**2*beta**2*gamma + 30*alpha**2*beta*gamma**2 + 10*alpha**2*gamma**3 + 5*alpha*beta**4 + 20*alpha*beta**3*gamma + 30*alpha*beta**2*gamma**2 + 20*alpha*beta*gamma**3 + 5*alpha*gamma**4 + beta**5 + 5*beta**4*gamma + 10*beta**3*gamma**2 + 10*beta**2*gamma**3 + 5*beta*gamma**4 + gamma**5"
      ]
     },
     "metadata": {},
     "output_type": "display_data"
    }
   ],
   "source": [
    "e = (alpha + beta + gamma)**5\n",
    "display(e)\n",
    "display(sym.expand(e))"
   ]
  },
  {
   "cell_type": "code",
   "execution_count": 99,
   "metadata": {},
   "outputs": [
    {
     "data": {
      "text/latex": [
       "$\\displaystyle \\left\\{x^{2}\\; \\middle|\\; x \\in \\mathbb{N}\\right\\}$"
      ],
      "text/plain": [
       "ImageSet(Lambda(x, x**2), Naturals)"
      ]
     },
     "metadata": {},
     "output_type": "display_data"
    },
    {
     "data": {
      "text/plain": [
       "False"
      ]
     },
     "execution_count": 99,
     "metadata": {},
     "output_type": "execute_result"
    }
   ],
   "source": [
    "from sympy import ImageSet, S, Lambda\n",
    "from sympy.abc import x\n",
    "squares = ImageSet(Lambda(x, x**2), S.Naturals)\n",
    "display(squares)\n",
    "8 in squares "
   ]
  },
  {
   "cell_type": "code",
   "execution_count": 101,
   "metadata": {},
   "outputs": [],
   "source": [
    "from sympy import solveset, S\n",
    "from sympy.abc import x"
   ]
  },
  {
   "cell_type": "code",
   "execution_count": 103,
   "metadata": {},
   "outputs": [
    {
     "data": {
      "text/latex": [
       "$\\displaystyle \\left\\{- i, i\\right\\}$"
      ],
      "text/plain": [
       "FiniteSet(I, -I)"
      ]
     },
     "execution_count": 103,
     "metadata": {},
     "output_type": "execute_result"
    }
   ],
   "source": [
    "solveset(x**2 +1,x) "
   ]
  },
  {
   "cell_type": "code",
   "execution_count": 117,
   "metadata": {},
   "outputs": [
    {
     "data": {
      "text/latex": [
       "$\\displaystyle \\left\\{- \\frac{1}{2} - \\frac{\\sqrt{3} i}{2}, - \\frac{1}{2} + \\frac{\\sqrt{3} i}{2}\\right\\}$"
      ],
      "text/plain": [
       "FiniteSet(-1/2 - sqrt(3)*I/2, -1/2 + sqrt(3)*I/2)"
      ]
     },
     "execution_count": 117,
     "metadata": {},
     "output_type": "execute_result"
    }
   ],
   "source": [
    "solveset(x**2 + x + 1,x) "
   ]
  },
  {
   "cell_type": "code",
   "execution_count": 104,
   "metadata": {},
   "outputs": [
    {
     "data": {
      "text/latex": [
       "$\\displaystyle \\emptyset$"
      ],
      "text/plain": [
       "EmptySet"
      ]
     },
     "execution_count": 104,
     "metadata": {},
     "output_type": "execute_result"
    }
   ],
   "source": [
    "solveset(x**2 +1, domain=S.Reals)"
   ]
  },
  {
   "cell_type": "code",
   "execution_count": 107,
   "metadata": {},
   "outputs": [
    {
     "data": {
      "text/latex": [
       "$\\displaystyle \\left\\{- \\sqrt[6]{2}, \\sqrt[6]{2}\\right\\}$"
      ],
      "text/plain": [
       "FiniteSet(2**(1/6), -2**(1/6))"
      ]
     },
     "execution_count": 107,
     "metadata": {},
     "output_type": "execute_result"
    }
   ],
   "source": [
    "solveset(x**6 - 2, domain=S.Reals)"
   ]
  },
  {
   "cell_type": "code",
   "execution_count": 109,
   "metadata": {},
   "outputs": [
    {
     "data": {
      "text/latex": [
       "$\\displaystyle \\left(0, \\infty\\right)$"
      ],
      "text/plain": [
       "Interval.open(0, oo)"
      ]
     },
     "execution_count": 109,
     "metadata": {},
     "output_type": "execute_result"
    }
   ],
   "source": [
    "solveset(sym.exp(x)>1 ,domain=S.Reals) "
   ]
  },
  {
   "cell_type": "code",
   "execution_count": 119,
   "metadata": {},
   "outputs": [
    {
     "data": {
      "text/latex": [
       "$\\displaystyle \\left(-\\infty, \\frac{1}{2} - \\frac{\\sqrt{1 + 4 \\pi}}{2}\\right) \\cup \\left(\\frac{1}{2} + \\frac{\\sqrt{1 + 4 \\pi}}{2}, \\infty\\right)$"
      ],
      "text/plain": [
       "Union(Interval.open(-oo, 1/2 - sqrt(1 + 4*pi)/2), Interval.open(1/2 + sqrt(1 + 4*pi)/2, oo))"
      ]
     },
     "execution_count": 119,
     "metadata": {},
     "output_type": "execute_result"
    }
   ],
   "source": [
    "solveset( x**2 -x > sym.pi ,domain=S.Reals)  "
   ]
  },
  {
   "cell_type": "code",
   "execution_count": 128,
   "metadata": {},
   "outputs": [
    {
     "data": {
      "text/latex": [
       "$\\displaystyle \\left(-\\infty, \\frac{1}{2}\\right) \\cup \\left(4, \\infty\\right)$"
      ],
      "text/plain": [
       "Union(Interval.open(-oo, 1/2), Interval.open(4, oo))"
      ]
     },
     "execution_count": 128,
     "metadata": {},
     "output_type": "execute_result"
    }
   ],
   "source": [
    "from sympy import Abs\n",
    "\n",
    "solveset(Abs(x - 4) + Abs(3*x - 5) - 7 > 0 ,domain=S.Reals)  \n",
    "\n"
   ]
  },
  {
   "cell_type": "code",
   "execution_count": 129,
   "metadata": {},
   "outputs": [
    {
     "data": {
      "text/latex": [
       "$\\displaystyle \\left(\\frac{31}{20}, \\frac{5}{3}\\right) \\cup \\left(\\frac{5}{3}, \\frac{39}{22}\\right)$"
      ],
      "text/plain": [
       "Union(Interval.open(31/20, 5/3), Interval.open(5/3, 39/22))"
      ]
     },
     "execution_count": 129,
     "metadata": {},
     "output_type": "execute_result"
    }
   ],
   "source": [
    "solveset(Abs(x - 4)/Abs(3*x - 5) - 7 > 0 ,domain=S.Reals)  "
   ]
  },
  {
   "cell_type": "code",
   "execution_count": 115,
   "metadata": {},
   "outputs": [
    {
     "data": {
      "image/png": "[encoded data removed]",
      "text/plain": [
       "<Figure size 432x288 with 1 Axes>"
      ]
     },
     "metadata": {
      "needs_background": "light"
     },
     "output_type": "display_data"
    },
    {
     "data": {
      "text/plain": [
       "<sympy.plotting.plot.Plot at 0x7f72ad144430>"
      ]
     },
     "execution_count": 115,
     "metadata": {},
     "output_type": "execute_result"
    }
   ],
   "source": [
    "plot(x**2-1)\n",
    "\n"
   ]
  },
  {
   "cell_type": "code",
   "execution_count": null,
   "metadata": {},
   "outputs": [],
   "source": []
  }
 ],
 "metadata": {
  "kernelspec": {
   "display_name": "Python 3",
   "language": "python",
   "name": "python3"
  },
  "language_info": {
   "codemirror_mode": {
    "name": "ipython",
    "version": 3
   },
   "file_extension": ".py",
   "mimetype": "text/x-python",
   "name": "python",
   "nbconvert_exporter": "python",
   "pygments_lexer": "ipython3",
   "version": "3.8.10"
  }
 },
 "nbformat": 4,
 "nbformat_minor": 4
}
