{
 "cells": [
  {
   "cell_type": "markdown",
   "metadata": {
    "slideshow": {
     "slide_type": "slide"
    }
   },
   "source": [
    "# Hector Flores Callisaya "
   ]
  },
  {
   "cell_type": "code",
   "execution_count": 1,
   "metadata": {
    "slideshow": {
     "slide_type": "skip"
    }
   },
   "outputs": [],
   "source": [
    "import sympy as sym\n"
   ]
  },
  {
   "cell_type": "code",
   "execution_count": 2,
   "metadata": {},
   "outputs": [],
   "source": [
    "sx, sy, rho = sym.symbols('sigma_x sigma_y rho')\n",
    "matrix = sym.Matrix([[sx ** 2, rho * sx * sy], \n",
    "                     [rho * sx * sy, sy ** 2]])\n",
    "\n"
   ]
  },
  {
   "cell_type": "code",
   "execution_count": 3,
   "metadata": {},
   "outputs": [
    {
     "data": {
      "text/latex": [
       "$\\displaystyle \\left[\\begin{matrix}\\sigma_{x}^{2} & \\rho \\sigma_{x} \\sigma_{y}\\\\\\rho \\sigma_{x} \\sigma_{y} & \\sigma_{y}^{2}\\end{matrix}\\right]$"
      ],
      "text/plain": [
       "Matrix([\n",
       "[         sigma_x**2, rho*sigma_x*sigma_y],\n",
       "[rho*sigma_x*sigma_y,          sigma_y**2]])"
      ]
     },
     "metadata": {},
     "output_type": "display_data"
    }
   ],
   "source": [
    "display(matrix)"
   ]
  },
  {
   "cell_type": "code",
   "execution_count": 5,
   "metadata": {},
   "outputs": [
    {
     "data": {
      "text/latex": [
       "$\\displaystyle \\left[\\begin{matrix}- \\frac{1}{\\rho^{2} \\sigma_{x}^{2} - \\sigma_{x}^{2}} & \\frac{\\rho}{\\rho^{2} \\sigma_{x} \\sigma_{y} - \\sigma_{x} \\sigma_{y}}\\\\\\frac{\\rho}{\\rho^{2} \\sigma_{x} \\sigma_{y} - \\sigma_{x} \\sigma_{y}} & - \\frac{1}{\\rho^{2} \\sigma_{y}^{2} - \\sigma_{y}^{2}}\\end{matrix}\\right]$"
      ],
      "text/plain": [
       "Matrix([\n",
       "[           -1/(rho**2*sigma_x**2 - sigma_x**2), rho/(rho**2*sigma_x*sigma_y - sigma_x*sigma_y)],\n",
       "[rho/(rho**2*sigma_x*sigma_y - sigma_x*sigma_y),            -1/(rho**2*sigma_y**2 - sigma_y**2)]])"
      ]
     },
     "execution_count": 5,
     "metadata": {},
     "output_type": "execute_result"
    }
   ],
   "source": [
    "matrix.inv()"
   ]
  },
  {
   "cell_type": "code",
   "execution_count": null,
   "metadata": {},
   "outputs": [],
   "source": []
  }
 ],
 "metadata": {
  "kernelspec": {
   "display_name": "Python 3",
   "language": "python",
   "name": "python3"
  },
  "language_info": {
   "codemirror_mode": {
    "name": "ipython",
    "version": 3
   },
   "file_extension": ".py",
   "mimetype": "text/x-python",
   "name": "python",
   "nbconvert_exporter": "python",
   "pygments_lexer": "ipython3",
   "version": "3.8.10"
  }
 },
 "nbformat": 4,
 "nbformat_minor": 4
}
